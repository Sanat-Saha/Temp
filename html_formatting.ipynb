{
 "cells": [
  {
   "cell_type": "code",
   "execution_count": 1,
   "metadata": {
    "collapsed": true
   },
   "outputs": [],
   "source": [
    "import markdown"
   ]
  },
  {
   "cell_type": "code",
   "execution_count": 7,
   "metadata": {
    "collapsed": false
   },
   "outputs": [],
   "source": [
    "config_start = r'<!DOCTYPE html>\\\n",
    "<html>\\\n",
    "<head><meta charset=\"utf-8\" />\\\n",
    "<title>Report</title>\\\n",
    "<link rel=\"stylesheet\" href=\"custom.css\"></head>\\\n",
    "<body>\\\n",
    "<div tabindex=\"-1\" id=\"notebook\" class=\"border-box-sizing\">'\n",
    "config_end = '</div>\\\n",
    "</body>\\\n",
    "</html>'\n",
    "config_mid = ' <div tabindex=\"-1\" id=\"notebook\" class=\"border-box-sizing\">\\\n",
    "    <div class=\"container\" id=\"notebook-container\">\\\n",
    "<div class=\"cell border-box-sizing code_cell rendered inner_cell text_cell_render rendered_html output_area output_subarea output_stream output_stdout output_text\">\\\n",
    "<h2>{}\\\n",
    "</h2>\\\n",
    "</div>\\\n",
    "<div class=\"cell border-box-sizing code_cell rendered output_wrapper output\">\\\n",
    "<pre>{}\\\n",
    "</pre>\\\n",
    "</div>\\\n",
    "</div>'"
   ]
  },
  {
   "cell_type": "code",
   "execution_count": 8,
   "metadata": {
    "collapsed": false
   },
   "outputs": [],
   "source": [
    "x = config_start + config_mid.format('Q1', 'A1') + config_mid.format('Q2', 'A2') + config_end\n",
    "with open('sample_html.html', 'w') as f:\n",
    "    f.write(markdown.markdown(x))"
   ]
  }
 ],
 "metadata": {
  "anaconda-cloud": {},
  "kernelspec": {
   "display_name": "Python [tensorflow2]",
   "language": "python",
   "name": "Python [tensorflow2]"
  },
  "language_info": {
   "codemirror_mode": {
    "name": "ipython",
    "version": 3
   },
   "file_extension": ".py",
   "mimetype": "text/x-python",
   "name": "python",
   "nbconvert_exporter": "python",
   "pygments_lexer": "ipython3",
   "version": "3.5.4"
  }
 },
 "nbformat": 4,
 "nbformat_minor": 0
}
